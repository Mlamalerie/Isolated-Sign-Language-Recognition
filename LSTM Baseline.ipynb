{
 "cells": [
  {
   "cell_type": "markdown",
   "source": [
    "## Set up Google Drive"
   ],
   "metadata": {
    "id": "T8-wQW5S6Jb-"
   }
  },
  {
   "cell_type": "code",
   "source": [
    "from google.colab import drive\n",
    "drive.mount('/content/gdrive')"
   ],
   "metadata": {
    "colab": {
     "base_uri": "https://localhost:8080/"
    },
    "id": "V42JY7fq6M2q",
    "executionInfo": {
     "status": "ok",
     "timestamp": 1679669178420,
     "user_tz": -60,
     "elapsed": 26157,
     "user": {
      "displayName": "Mlamali Said Salimo",
      "userId": "18076912819642035214"
     }
    },
    "outputId": "800ade25-ca74-4ae0-db4c-801b958d0d82"
   },
   "execution_count": 1,
   "outputs": [
    {
     "ename": "ModuleNotFoundError",
     "evalue": "No module named 'google.colab'",
     "output_type": "error",
     "traceback": [
      "\u001B[1;31m---------------------------------------------------------------------------\u001B[0m",
      "\u001B[1;31mModuleNotFoundError\u001B[0m                       Traceback (most recent call last)",
      "Cell \u001B[1;32mIn[1], line 1\u001B[0m\n\u001B[1;32m----> 1\u001B[0m \u001B[38;5;28;01mfrom\u001B[39;00m \u001B[38;5;21;01mgoogle\u001B[39;00m\u001B[38;5;21;01m.\u001B[39;00m\u001B[38;5;21;01mcolab\u001B[39;00m \u001B[38;5;28;01mimport\u001B[39;00m drive\n\u001B[0;32m      2\u001B[0m drive\u001B[38;5;241m.\u001B[39mmount(\u001B[38;5;124m'\u001B[39m\u001B[38;5;124m/content/gdrive\u001B[39m\u001B[38;5;124m'\u001B[39m)\n",
      "\u001B[1;31mModuleNotFoundError\u001B[0m: No module named 'google.colab'"
     ]
    }
   ]
  },
  {
   "cell_type": "code",
   "source": [
    "WORKSPACE_DRIVE_PATH = \"/content/gdrive/MyDrive/HGR - Akkodis\""
   ],
   "metadata": {
    "id": "g00jmajE7ABv",
    "executionInfo": {
     "status": "ok",
     "timestamp": 1679669178420,
     "user_tz": -60,
     "elapsed": 4,
     "user": {
      "displayName": "Mlamali Said Salimo",
      "userId": "18076912819642035214"
     }
    }
   },
   "execution_count": null,
   "outputs": []
  },
  {
   "cell_type": "markdown",
   "source": [
    "## Import Libraries"
   ],
   "metadata": {
    "collapsed": false,
    "id": "JMZhB4tX6AAT"
   }
  },
  {
   "cell_type": "code",
   "execution_count": null,
   "metadata": {
    "collapsed": true,
    "id": "3Q8TL7he6AAY",
    "executionInfo": {
     "status": "ok",
     "timestamp": 1679669181554,
     "user_tz": -60,
     "elapsed": 3137,
     "user": {
      "displayName": "Mlamali Said Salimo",
      "userId": "18076912819642035214"
     }
    }
   },
   "outputs": [],
   "source": [
    "# import libraries\n",
    "import pandas as pd\n",
    "import numpy as np\n",
    "import matplotlib.pyplot as plt\n",
    "import tensorflow as tf\n",
    "import json\n",
    "import functools"
   ]
  },
  {
   "cell_type": "markdown",
   "source": [
    "## 📦 Data"
   ],
   "metadata": {
    "collapsed": false,
    "id": "tvc7BfTK6AAb"
   }
  },
  {
   "cell_type": "code",
   "source": [
    "N_SIGNS = 250\n",
    "ROWS_PER_FRAME = 543"
   ],
   "metadata": {
    "id": "Pxz0v_Ie-6NE",
    "executionInfo": {
     "status": "ok",
     "timestamp": 1679669181554,
     "user_tz": -60,
     "elapsed": 8,
     "user": {
      "displayName": "Mlamali Said Salimo",
      "userId": "18076912819642035214"
     }
    }
   },
   "execution_count": null,
   "outputs": []
  },
  {
   "cell_type": "markdown",
   "source": [
    "### Landmarks"
   ],
   "metadata": {
    "id": "Jmgq--l4_F6B"
   }
  },
  {
   "cell_type": "code",
   "execution_count": null,
   "outputs": [],
   "source": [
    "FACE_N_LANDMARKS = 468\n",
    "HAND_N_LANDMARKS = 21\n",
    "POSE_N_LANDMARKS = 33\n",
    "SET_LANDMARKS = [f\"face-{i:03d}\" for i in range(FACE_N_LANDMARKS)] + [f\"left_hand-{i:03d}\" for i in range(HAND_N_LANDMARKS)] + [\n",
    "        f\"pose-{i:03d}\" for i in range(POSE_N_LANDMARKS)] + [\n",
    "        f\"right_hand-{i:03d}\" for i in range(HAND_N_LANDMARKS)]\n",
    "\n",
    "len(SET_LANDMARKS)"
   ],
   "metadata": {
    "colab": {
     "base_uri": "https://localhost:8080/"
    },
    "id": "wlTb_hs06AAc",
    "executionInfo": {
     "status": "ok",
     "timestamp": 1679669181555,
     "user_tz": -60,
     "elapsed": 9,
     "user": {
      "displayName": "Mlamali Said Salimo",
      "userId": "18076912819642035214"
     }
    },
    "outputId": "e77bddc9-3541-40bd-de58-4a61d82c0720"
   }
  },
  {
   "cell_type": "code",
   "execution_count": null,
   "outputs": [],
   "source": [
    "# Set constants and pick important landmarks : drop most of the face mesh + all others landmarks\n",
    "LANDMARK_IDX = [0,9,11,13,14,17,117,118,119,199,346,347,348] + list(range(468,543))\n",
    "\n",
    "print(f\"Number of landmarks : {len(LANDMARK_IDX)}\")\n",
    "print(f\"Percentage : {len(LANDMARK_IDX)/ROWS_PER_FRAME*100:.2f}%\")\n",
    "print(f\"Landmarks : {[SET_LANDMARKS[i] for i in LANDMARK_IDX]}\")"
   ],
   "metadata": {
    "colab": {
     "base_uri": "https://localhost:8080/"
    },
    "id": "5zmirUg16AAc",
    "executionInfo": {
     "status": "ok",
     "timestamp": 1679669181555,
     "user_tz": -60,
     "elapsed": 7,
     "user": {
      "displayName": "Mlamali Said Salimo",
      "userId": "18076912819642035214"
     }
    },
    "outputId": "8deea693-c416-4d2a-ad90-6125c56cfec5"
   }
  },
  {
   "cell_type": "markdown",
   "source": [
    "<img src=\"images/pose_tracking_full_body_landmarks.png\" alt=\"pose_landmarks\" width=\"500\">\n",
    "\n",
    "<img src=\"images/hand_landmarks.png\" alt=\"hand_landmarks\" width=\"500\">\n",
    "\n",
    "<br>\n",
    "<img src=\"images/face_landmarks.png\" alt=\"face_landmarks\" width=\"400\">"
   ],
   "metadata": {
    "collapsed": false,
    "id": "sLha_j906AAc"
   }
  },
  {
   "cell_type": "markdown",
   "source": [
    "### Load (tf.Dataset)"
   ],
   "metadata": {
    "collapsed": false,
    "id": "fCsEp62f6AAd"
   }
  },
  {
   "cell_type": "markdown",
   "source": [
    "To keep it simple, we will use the preprocessed tf.Dataset from tfdataset-of-google-isl-recognition-data."
   ],
   "metadata": {
    "collapsed": false,
    "id": "1GOcP6GK6AAd"
   }
  },
  {
   "cell_type": "code",
   "execution_count": null,
   "outputs": [],
   "source": [
    "PATH_DOWNLOAD = f\"{WORKSPACE_DRIVE_PATH}/GoogleISLDatasetBatched\"\n",
    "\n",
    "TFDATASET_PATH = f\"{WORKSPACE_DRIVE_PATH}/landmark_files_preprocessed__xy__ids_all__val_0.1\"\n",
    "\n",
    "TRAIN_TFDATASET_PATH = f\"{TFDATASET_PATH}/trainDataset\"\n",
    "VAL_TFDATASET_PATH = f\"{TFDATASET_PATH}/valDataset\"\n",
    "META_TFDATASET_PATH = f\"{TFDATASET_PATH}/metadata.json\"\n",
    "\n",
    "# load json\n",
    "with open(META_TFDATASET_PATH, \"r\") as f:\n",
    "    metadata = json.load(f)\n",
    "\n",
    "print(metadata.keys())\n",
    "for meta in [\"data_columns\", \"batch_size\",\"val_size\"]:\n",
    "    print(meta,metadata[meta])\n",
    "\n",
    "N_DATA_COLUMNS = len(metadata[\"data_columns\"])\n",
    "BATCH_SIZE = metadata[\"batch_size\"]"
   ],
   "metadata": {
    "colab": {
     "base_uri": "https://localhost:8080/"
    },
    "id": "pJUpXfiK6AAd",
    "executionInfo": {
     "status": "ok",
     "timestamp": 1679669181853,
     "user_tz": -60,
     "elapsed": 302,
     "user": {
      "displayName": "Mlamali Said Salimo",
      "userId": "18076912819642035214"
     }
    },
    "outputId": "a4823bd9-cb74-4498-b5f3-4b7c03c37f06"
   }
  },
  {
   "cell_type": "code",
   "execution_count": null,
   "outputs": [],
   "source": [
    "def preprocess(ragged_batch : tf.RaggedTensor, labels : tf.Tensor):\n",
    "    # we only keep the landmarks we are interested in (see LANDMARK_IDX)\n",
    "    # tf.gather : Gather slices from ragged_batch along axis axis according to indices.\n",
    "    ragged_batch = tf.gather(ragged_batch, # shape = (N_SIGNS, ROWS_PER_FRAME, 3 or 2)\n",
    "                             LANDMARK_IDX, # shape = (N_LANDMARKS,)\n",
    "                             axis=2)\n",
    "\n",
    "    # remove NaNs and replace them with zeros\n",
    "    ragged_batch = tf.where(tf.math.is_nan(ragged_batch), tf.zeros_like(ragged_batch), ragged_batch)\n",
    "    return tf.concat([ragged_batch[...,i] for i in range(N_DATA_COLUMNS)],-1), labels\n",
    "\n",
    "CHOOSE_GOOGLE_DATASET = False\n",
    "if CHOOSE_GOOGLE_DATASET:\n",
    "    dataset = tf.data.Dataset.load(PATH_DOWNLOAD)\n",
    "    print(f\"* Shape before preprocess : { dataset.element_spec[0].shape}\")\n",
    "    N_DATA_COLUMNS = dataset.element_spec[0].shape[-1]\n",
    "    dataset = dataset.map(preprocess)\n",
    "    print(f\"* Shape after preprocess : { dataset.element_spec[0].shape}\")\n",
    "    print()\n",
    "\n",
    "    # get cardinality\n",
    "    VAL_SIZE_PERCENTAGE = 0.1\n",
    "    DS_CARDINALITY = tf.data.experimental.cardinality(dataset).numpy()\n",
    "    VAL_HEAD = int(DS_CARDINALITY * VAL_SIZE_PERCENTAGE)\n",
    "\n",
    "    val_ds = dataset.take(VAL_HEAD).cache().prefetch(tf.data.AUTOTUNE)\n",
    "    train_ds = dataset.skip(VAL_HEAD).cache().shuffle(20).prefetch(tf.data.AUTOTUNE)\n",
    "\n",
    "    # todo get batch size, n_data_columns\n",
    "    N_DATA_COLUMNS = 3\n",
    "\n",
    "else:\n",
    "    train_ds = tf.data.Dataset.load(TRAIN_TFDATASET_PATH)\n",
    "   \n",
    "    print(f\"* Shape before preprocess : { train_ds.element_spec[0].shape}\")\n",
    "    N_DATA_COLUMNS = train_ds.element_spec[0].shape[-1]\n",
    "    train_ds = train_ds.map(preprocess)#.shuffle(20)\n",
    "    print(f\"* Shape after preprocess : { train_ds.element_spec[0].shape}\")\n",
    "    print()\n",
    "\n",
    "    val_ds = tf.data.Dataset.load(VAL_TFDATASET_PATH)\n",
    "    val_ds = val_ds.map(preprocess)\n",
    "\n",
    "DS_TRAIN_CARDINALITY : int = tf.data.experimental.cardinality(train_ds).numpy()\n",
    "DS_VAL_CARDINALITY : int = tf.data.experimental.cardinality(val_ds).numpy()\n",
    "\n",
    "print(f\"* Train dataset cardinality : {DS_TRAIN_CARDINALITY}\")\n",
    "print(f\"* Validation dataset cardinality : {DS_VAL_CARDINALITY}\")\n",
    "print(f\"* Number of data columns : { N_DATA_COLUMNS}\")"
   ],
   "metadata": {
    "colab": {
     "base_uri": "https://localhost:8080/"
    },
    "id": "cybWumAL6AAe",
    "executionInfo": {
     "status": "ok",
     "timestamp": 1679669189955,
     "user_tz": -60,
     "elapsed": 8103,
     "user": {
      "displayName": "Mlamali Said Salimo",
      "userId": "18076912819642035214"
     }
    },
    "outputId": "b375dab7-d630-4ac0-8c38-1784eed04199"
   }
  },
  {
   "cell_type": "markdown",
   "source": [
    "- `prefetch` is used to load the next batch while the current one is being processed. `tf.data.AUTOTUNE` is used to let tensorflow decide how many batches to prefetch.\n",
    "- `cache` is used to cache the dataset in memory. This is useful when the dataset is too big to fit in memory.\n",
    "- `shuffle` is used to shuffle the dataset.\n"
   ],
   "metadata": {
    "collapsed": false,
    "id": "N5Qg_OxW6AAe"
   }
  },
  {
   "cell_type": "markdown",
   "source": [
    "## Model Building\n",
    "\n",
    "Now let us get to the fun part, training the model!"
   ],
   "metadata": {
    "collapsed": false,
    "id": "H6XaFYu06AAe"
   }
  },
  {
   "cell_type": "code",
   "execution_count": 10,
   "outputs": [],
   "source": [
    "# include early stopping and reducelr\n",
    "def get_callbacks():\n",
    "    \"\"\"\n",
    "    Returns a list of callbacks to be used during training.\n",
    "    - EarlyStopping : stops training when a monitored metric has stopped improving.\n",
    "    - ReduceLROnPlateau : reduces learning rate when a metric has stopped improving.\n",
    "    \"\"\"\n",
    "    return [\n",
    "        tf.keras.callbacks.EarlyStopping(\n",
    "            monitor=\"val_accuracy\",\n",
    "            patience = 10,\n",
    "            restore_best_weights=True\n",
    "        ),\n",
    "        tf.keras.callbacks.ReduceLROnPlateau(\n",
    "            monitor = \"val_accuracy\",\n",
    "            factor = 0.5,\n",
    "            patience = 3\n",
    "        ),\n",
    "    ]\n",
    "\n",
    "# a single dense block followed by a normalization block and relu activation\n",
    "def dense_block(units, name):\n",
    "    fc = tf.keras.layers.Dense(units)\n",
    "    norm = tf.keras.layers.LayerNormalization() # normalize the output of the dense layer\n",
    "    act = tf.keras.layers.Activation(\"relu\")\n",
    "    drop = tf.keras.layers.Dropout(0.1)\n",
    "    return lambda x: drop(act(norm(fc(x))))\n",
    "\n",
    "# the lstm block with the final dense block for the classification\n",
    "def classifier(lstm_units):\n",
    "    lstm = tf.keras.layers.LSTM(lstm_units)\n",
    "    out = tf.keras.layers.Dense(N_SIGNS, activation=\"softmax\")\n",
    "    return lambda x: out(lstm(x))"
   ],
   "metadata": {
    "id": "OhEDkO0q6AAf",
    "executionInfo": {
     "status": "ok",
     "timestamp": 1679669189956,
     "user_tz": -60,
     "elapsed": 15,
     "user": {
      "displayName": "Mlamali Said Salimo",
      "userId": "18076912819642035214"
     }
    }
   }
  },
  {
   "cell_type": "code",
   "execution_count": 15,
   "outputs": [
    {
     "output_type": "stream",
     "name": "stdout",
     "text": [
      "Model: \"lstm_250_encoder_512_256\"\n",
      "_________________________________________________________________\n",
      " Layer (type)                Output Shape              Param #   \n",
      "=================================================================\n",
      " input_2 (InputLayer)        [(None, None, 176)]       0         \n",
      "                                                                 \n",
      " dense_3 (Dense)             (None, None, 512)         90624     \n",
      "                                                                 \n",
      " layer_normalization_2 (Laye  (None, None, 512)        1024      \n",
      " rNormalization)                                                 \n",
      "                                                                 \n",
      " activation_2 (Activation)   (None, None, 512)         0         \n",
      "                                                                 \n",
      " dropout_2 (Dropout)         (None, None, 512)         0         \n",
      "                                                                 \n",
      " dense_4 (Dense)             (None, None, 256)         131328    \n",
      "                                                                 \n",
      " layer_normalization_3 (Laye  (None, None, 256)        512       \n",
      " rNormalization)                                                 \n",
      "                                                                 \n",
      " activation_3 (Activation)   (None, None, 256)         0         \n",
      "                                                                 \n",
      " dropout_3 (Dropout)         (None, None, 256)         0         \n",
      "                                                                 \n",
      " lstm_1 (LSTM)               (None, 250)               507000    \n",
      "                                                                 \n",
      " dense_5 (Dense)             (None, 250)               62750     \n",
      "                                                                 \n",
      "=================================================================\n",
      "Total params: 793,238\n",
      "Trainable params: 793,238\n",
      "Non-trainable params: 0\n",
      "_________________________________________________________________\n"
     ]
    }
   ],
   "source": [
    "# choose the number of nodes per layer\n",
    "encoder_units = [512, 256] # tune this\n",
    "lstm_units = 250 # tune this\n",
    "\n",
    "#define the inputs (ragged batches of time series of landmark coordinates)\n",
    "inputs = tf.keras.Input(shape=(None,N_DATA_COLUMNS*len(LANDMARK_IDX)), ragged=True)\n",
    "# ragged tensor is a tensor with variable length rows\n",
    "# 3*len(LANDMARK_IDX) because todo : je comprends pas\n",
    "\n",
    "# dense encoder model\n",
    "x = inputs\n",
    "for i, n in enumerate(encoder_units):\n",
    "    x = dense_block(n, f\"encoder_{i}\")(x)\n",
    "\n",
    "# classifier model\n",
    "out = classifier(lstm_units)(x)\n",
    "model_name = f\"lstm_{lstm_units}_encoder_{'_'.join([str(n) for n in encoder_units])}\"\n",
    "\n",
    "model = tf.keras.Model(inputs=inputs, outputs=out,name=model_name)\n",
    "model.summary()"
   ],
   "metadata": {
    "colab": {
     "base_uri": "https://localhost:8080/"
    },
    "id": "Rzvq2-pv6AAf",
    "executionInfo": {
     "status": "ok",
     "timestamp": 1679669254757,
     "user_tz": -60,
     "elapsed": 1919,
     "user": {
      "displayName": "Mlamali Said Salimo",
      "userId": "18076912819642035214"
     }
    },
    "outputId": "24f24c5b-ed19-40c8-83cc-c62160644af0"
   }
  },
  {
   "cell_type": "code",
   "source": [
    "[steps_per_epoch * n for n in [30,50,70]]"
   ],
   "metadata": {
    "colab": {
     "base_uri": "https://localhost:8080/"
    },
    "id": "mx28QrQZJidK",
    "executionInfo": {
     "status": "ok",
     "timestamp": 1679670260145,
     "user_tz": -60,
     "elapsed": 367,
     "user": {
      "displayName": "Mlamali Said Salimo",
      "userId": "18076912819642035214"
     }
    },
    "outputId": "40b73c2a-9655-4eaa-e55a-8678e329f7ea"
   },
   "execution_count": 26,
   "outputs": [
    {
     "output_type": "execute_result",
     "data": {
      "text/plain": [
       "[6990, 11650, 16310]"
      ]
     },
     "metadata": {},
     "execution_count": 26
    }
   ]
  },
  {
   "cell_type": "code",
   "execution_count": 16,
   "outputs": [],
   "source": [
    "# add a decreasing learning rate scheduler to help convergence\n",
    "steps_per_epoch = DS_TRAIN_CARDINALITY\n",
    "boundaries = [steps_per_epoch * n for n in [30,50,70]]\n",
    "values = [1e-3,1e-4,1e-5,1e-6]\n",
    "\n",
    "lr_sched = tf.keras.optimizers.schedules.PiecewiseConstantDecay(boundaries, values) # PiecewiseConstantDecay : decay the learning rate at discrete intervals\n",
    "optimizer = tf.keras.optimizers.Adam(lr_sched)\n",
    "f\n",
    "model.compile(optimizer=optimizer,\n",
    "              loss=\"sparse_categorical_crossentropy\",\n",
    "              metrics=[\"accuracy\",\"sparse_top_k_categorical_accuracy\"])"
   ],
   "metadata": {
    "id": "70hOWw_96AAf",
    "executionInfo": {
     "status": "ok",
     "timestamp": 1679669257026,
     "user_tz": -60,
     "elapsed": 2,
     "user": {
      "displayName": "Mlamali Said Salimo",
      "userId": "18076912819642035214"
     }
    }
   }
  },
  {
   "cell_type": "markdown",
   "source": [
    "Le taux d'apprentissage (**learning rate**) est un hyperparamètre crucial dans les réseaux de neurones qui détermine l'ampleur de la modification des poids à chaque étape de l'entraînement. En d'autres termes, c'est la quantité par laquelle les poids sont ajustés en réponse à l'erreur calculée lors de la rétropropagation de l'erreur.\n",
    "\n",
    "- Un taux d'apprentissage **trop élevé** peut entraîner une divergence du modèle et une incapacité à converger vers une solution optimale.\n",
    "- Un taux d'apprentissage **trop faible** peut ralentir le processus d'apprentissage et prendre beaucoup plus de temps pour atteindre une solution optimale.\n",
    "\n",
    "Choisir le bon taux d'apprentissage est donc un compromis délicat et souvent expérimental qui doit être ajusté pour chaque problème de modélisation spécifique.\n",
    "\n",
    "C'est pourquoi des méthodes de planification de taux d'apprentissage telles que PiecewiseConstantDecay sont souvent utilisées pour aider à optimiser ce paramètre en cours d'entraînement ; pour une meilleure convergence et une meilleure précision dans l'entraînement du réseau de neurones. `PiecewiseConstantDecay` est une classe qui décroît le taux d'apprentissage à des intervalles de temps prédéfinis. \n",
    "\n",
    "Dans ce code, il est utilisé pour créer un taux d'apprentissage décroissant pour l'optimiseur Adam : il réduit le taux d'apprentissage en utilisant une liste de valeurs fixes à des moments spécifiques de l'entraînement. Sans cette méthode de planification de taux d'apprentissage, le réseau de neurones utiliserait un taux d'apprentissage constant pendant toute la durée de l'entraînement."
   ],
   "metadata": {
    "id": "bOOd5xeUD3Z9"
   }
  },
  {
   "cell_type": "markdown",
   "source": [
    "### Training"
   ],
   "metadata": {
    "collapsed": false,
    "id": "k-K6exaQ6AAf"
   }
  },
  {
   "cell_type": "code",
   "execution_count": 17,
   "outputs": [],
   "source": [
    "def plot_learning_curves(history, title=\"\"):\n",
    "    acc      = history.history[\"accuracy\"]\n",
    "    loss     = history.history[\"loss\"]\n",
    "    val_acc  = history.history[\"val_accuracy\"]\n",
    "    val_loss = history.history[\"val_loss\"]\n",
    "    epochs = range(len(acc))\n",
    "\n",
    "    fig, (ax1, ax2) = plt.subplots(1, 2, figsize=(15,5))\n",
    "\n",
    "    fig.suptitle(title, fontsize=\"x-large\")\n",
    "\n",
    "    ax1.plot(epochs, acc, label=\"Entraînement\")\n",
    "    ax1.plot(epochs, val_acc, label=\"Validation\")\n",
    "    ax1.set_title(\"Accuracy - Données entraînement vs. validation.\")\n",
    "    ax1.set_ylabel(\"Accuracy (%)\")\n",
    "    ax1.set_xlabel(\"Epoch\")\n",
    "    ax1.legend()\n",
    "\n",
    "    ax2.plot(epochs, loss, label=\"Entraînement\")\n",
    "    ax2.plot(epochs, val_loss, label=\"Validation\")\n",
    "    ax2.set_title(\"Perte - Données entraînement vs. validation.\")\n",
    "    ax2.set_ylabel('Perte')\n",
    "    ax2.set_xlabel('Epoch')\n",
    "    ax2.legend()\n",
    "\n",
    "    fig.show()"
   ],
   "metadata": {
    "id": "Z1n4ZWQD6AAf",
    "executionInfo": {
     "status": "ok",
     "timestamp": 1679669261206,
     "user_tz": -60,
     "elapsed": 3,
     "user": {
      "displayName": "Mlamali Said Salimo",
      "userId": "18076912819642035214"
     }
    }
   }
  },
  {
   "cell_type": "code",
   "execution_count": 18,
   "outputs": [
    {
     "output_type": "stream",
     "name": "stdout",
     "text": [
      "Epoch 1/5\n",
      "233/233 [==============================] - 136s 532ms/step - loss: 5.3598 - accuracy: 0.0101 - sparse_top_k_categorical_accuracy: 0.0464 - val_loss: 5.3624 - val_accuracy: 0.0154 - val_sparse_top_k_categorical_accuracy: 0.0696 - lr: 0.0010\n",
      "Epoch 2/5\n",
      "233/233 [==============================] - 87s 372ms/step - loss: 4.8685 - accuracy: 0.0362 - sparse_top_k_categorical_accuracy: 0.1317 - val_loss: 4.9359 - val_accuracy: 0.0400 - val_sparse_top_k_categorical_accuracy: 0.1332 - lr: 0.0010\n",
      "Epoch 3/5\n",
      "233/233 [==============================] - 84s 360ms/step - loss: 4.6031 - accuracy: 0.0608 - sparse_top_k_categorical_accuracy: 0.1976 - val_loss: 4.6651 - val_accuracy: 0.0603 - val_sparse_top_k_categorical_accuracy: 0.1899 - lr: 0.0010\n",
      "Epoch 4/5\n",
      "233/233 [==============================] - 113s 479ms/step - loss: 4.3800 - accuracy: 0.0820 - sparse_top_k_categorical_accuracy: 0.2496 - val_loss: 4.6607 - val_accuracy: 0.0646 - val_sparse_top_k_categorical_accuracy: 0.2056 - lr: 0.0010\n",
      "Epoch 5/5\n",
      "233/233 [==============================] - 110s 468ms/step - loss: 4.2313 - accuracy: 0.1004 - sparse_top_k_categorical_accuracy: 0.2910 - val_loss: 4.5503 - val_accuracy: 0.0772 - val_sparse_top_k_categorical_accuracy: 0.2308 - lr: 0.0010\n"
     ]
    }
   ],
   "source": [
    "# fit the model with 100 epochs iteration\n",
    "history = model.fit(train_ds,\n",
    "          validation_data = val_ds,\n",
    "          callbacks = get_callbacks(),\n",
    "          epochs = 10)\n",
    "# todo : papasaer bc de temps, voir d'autre models, colab"
   ],
   "metadata": {
    "colab": {
     "base_uri": "https://localhost:8080/"
    },
    "id": "pgqOy3gb6AAg",
    "executionInfo": {
     "status": "ok",
     "timestamp": 1679669924877,
     "user_tz": -60,
     "elapsed": 661232,
     "user": {
      "displayName": "Mlamali Said Salimo",
      "userId": "18076912819642035214"
     }
    },
    "outputId": "258a9306-06e2-42de-fb46-307f702e3ddf"
   }
  },
  {
   "cell_type": "code",
   "execution_count": 19,
   "outputs": [
    {
     "output_type": "display_data",
     "data": {
      "text/plain": [
       "<Figure size 1080x360 with 2 Axes>"
      ],
      "image/png": "[encoded data removed]"
     },
     "metadata": {
      "needs_background": "light"
     }
    }
   ],
   "source": [
    "plot_learning_curves(history, title=f\"Learning curves for the {model_name} model\")"
   ],
   "metadata": {
    "colab": {
     "base_uri": "https://localhost:8080/",
     "height": 370
    },
    "id": "w9qE9C8O6AAg",
    "executionInfo": {
     "status": "ok",
     "timestamp": 1679669925501,
     "user_tz": -60,
     "elapsed": 627,
     "user": {
      "displayName": "Mlamali Said Salimo",
      "userId": "18076912819642035214"
     }
    },
    "outputId": "5eeaa823-ee61-4b17-f6c4-4fde765ff97d"
   }
  },
  {
   "cell_type": "markdown",
   "source": [
    "## Inference Test"
   ],
   "metadata": {
    "id": "I2AIkYKFKaOv"
   }
  },
  {
   "cell_type": "code",
   "source": [],
   "metadata": {
    "id": "iaXA3PhWRFh2"
   },
   "execution_count": null,
   "outputs": []
  },
  {
   "cell_type": "code",
   "source": [
    "model.summary(expand_nested=True) # expand_nested : show the layers of the model"
   ],
   "metadata": {
    "colab": {
     "base_uri": "https://localhost:8080/"
    },
    "id": "H-PLcgy6KcQa",
    "executionInfo": {
     "status": "ok",
     "timestamp": 1679670496847,
     "user_tz": -60,
     "elapsed": 464,
     "user": {
      "displayName": "Mlamali Said Salimo",
      "userId": "18076912819642035214"
     }
    },
    "outputId": "8a03943a-9aa4-4cc6-8dd8-531365acc8c1"
   },
   "execution_count": 27,
   "outputs": [
    {
     "output_type": "stream",
     "name": "stdout",
     "text": [
      "Model: \"lstm_250_encoder_512_256\"\n",
      "_________________________________________________________________\n",
      " Layer (type)                Output Shape              Param #   \n",
      "=================================================================\n",
      " input_2 (InputLayer)        [(None, None, 176)]       0         \n",
      "                                                                 \n",
      " dense_3 (Dense)             (None, None, 512)         90624     \n",
      "                                                                 \n",
      " layer_normalization_2 (Laye  (None, None, 512)        1024      \n",
      " rNormalization)                                                 \n",
      "                                                                 \n",
      " activation_2 (Activation)   (None, None, 512)         0         \n",
      "                                                                 \n",
      " dropout_2 (Dropout)         (None, None, 512)         0         \n",
      "                                                                 \n",
      " dense_4 (Dense)             (None, None, 256)         131328    \n",
      "                                                                 \n",
      " layer_normalization_3 (Laye  (None, None, 256)        512       \n",
      " rNormalization)                                                 \n",
      "                                                                 \n",
      " activation_3 (Activation)   (None, None, 256)         0         \n",
      "                                                                 \n",
      " dropout_3 (Dropout)         (None, None, 256)         0         \n",
      "                                                                 \n",
      " lstm_1 (LSTM)               (None, 250)               507000    \n",
      "                                                                 \n",
      " dense_5 (Dense)             (None, 250)               62750     \n",
      "                                                                 \n",
      "=================================================================\n",
      "Total params: 793,238\n",
      "Trainable params: 793,238\n",
      "Non-trainable params: 0\n",
      "_________________________________________________________________\n"
     ]
    }
   ]
  },
  {
   "cell_type": "code",
   "source": [
    "def get_inference_model(model):\n",
    "    \"\"\"\n",
    "    Returns a model that takes in a batch of frames and outputs a batch of predictions.\n",
    "    \"\"\"\n",
    "    inputs = tf.keras.Input(shape=(ROWS_PER_FRAME,N_DATA_COLUMNS), name=\"inputs\")\n",
    "\n",
    "    # drop most of the face mesh\n",
    "    x = tf.gather(inputs, LANDMARK_IDX, axis=1)\n",
    "\n",
    "    # fill nan\n",
    "    x = tf.where(tf.math.is_nan(x), tf.zeros_like(x), x)\n",
    "\n",
    "    # flatten landmark xyz coordinates () # todo : for xy coordinates\n",
    "    x = tf.concat([x[...,i] for i in range(N_DATA_COLUMNS)], -1)\n",
    "\n",
    "    x = tf.expand_dims(x,0) # add batch dimension (ba batch is a set of frames)\n",
    "\n",
    "    # call trained model\n",
    "    out = model(x)\n",
    "\n",
    "    # explicitly name the final (identity) layer for the submission format\n",
    "    out = tf.keras.layers.Activation(\"linear\", name=\"outputs\")(out)\n",
    "\n",
    "    inference_model = tf.keras.Model(inputs=inputs, outputs=out)\n",
    "    inference_model.compile(loss=\"sparse_categorical_crossentropy\",\n",
    "                            metrics=\"accuracy\")\n",
    "    return inference_model\n",
    "\n",
    "inference_model = get_inference_model(model)\n",
    "inference_model.summary(expand_nested=True)"
   ],
   "metadata": {
    "colab": {
     "base_uri": "https://localhost:8080/"
    },
    "id": "bgtvQjn3Kldh",
    "executionInfo": {
     "status": "ok",
     "timestamp": 1679672332251,
     "user_tz": -60,
     "elapsed": 436,
     "user": {
      "displayName": "Mlamali Said Salimo",
      "userId": "18076912819642035214"
     }
    },
    "outputId": "9b7c805e-8918-4dc1-ffb7-b160c573a635"
   },
   "execution_count": 51,
   "outputs": [
    {
     "output_type": "stream",
     "name": "stdout",
     "text": [
      "Model: \"model_10\"\n",
      "__________________________________________________________________________________________________\n",
      " Layer (type)                   Output Shape         Param #     Connected to                     \n",
      "==================================================================================================\n",
      " inputs (InputLayer)            [(None, 543, 2)]     0           []                               \n",
      "                                                                                                  \n",
      " tf.compat.v1.gather_14 (TFOpLa  (None, 88, 2)       0           ['inputs[0][0]']                 \n",
      " mbda)                                                                                            \n",
      "                                                                                                  \n",
      " tf.math.is_nan_14 (TFOpLambda)  (None, 88, 2)       0           ['tf.compat.v1.gather_14[0][0]'] \n",
      "                                                                                                  \n",
      " tf.zeros_like_14 (TFOpLambda)  (None, 88, 2)        0           ['tf.compat.v1.gather_14[0][0]'] \n",
      "                                                                                                  \n",
      " tf.where_14 (TFOpLambda)       (None, 88, 2)        0           ['tf.math.is_nan_14[0][0]',      \n",
      "                                                                  'tf.zeros_like_14[0][0]',       \n",
      "                                                                  'tf.compat.v1.gather_14[0][0]'] \n",
      "                                                                                                  \n",
      " tf.__operators__.getitem_29 (S  (None, 88)          0           ['tf.where_14[0][0]']            \n",
      " licingOpLambda)                                                                                  \n",
      "                                                                                                  \n",
      " tf.__operators__.getitem_30 (S  (None, 88)          0           ['tf.where_14[0][0]']            \n",
      " licingOpLambda)                                                                                  \n",
      "                                                                                                  \n",
      " tf.concat_14 (TFOpLambda)      (None, 176)          0           ['tf.__operators__.getitem_29[0][\n",
      "                                                                 0]',                             \n",
      "                                                                  'tf.__operators__.getitem_30[0][\n",
      "                                                                 0]']                             \n",
      "                                                                                                  \n",
      " tf.expand_dims_13 (TFOpLambda)  (1, None, 176)      0           ['tf.concat_14[0][0]']           \n",
      "                                                                                                  \n",
      " lstm_250_encoder_512_256 (Func  (None, 250)         793238      ['tf.expand_dims_13[0][0]']      \n",
      " tional)                                                                                          \n",
      "|¯¯¯¯¯¯¯¯¯¯¯¯¯¯¯¯¯¯¯¯¯¯¯¯¯¯¯¯¯¯¯¯¯¯¯¯¯¯¯¯¯¯¯¯¯¯¯¯¯¯¯¯¯¯¯¯¯¯¯¯¯¯¯¯¯¯¯¯¯¯¯¯¯¯¯¯¯¯¯¯¯¯¯¯¯¯¯¯¯¯¯¯¯¯¯¯|\n",
      "| input_2 (InputLayer)         [(None, None, 176)]  0           []                               |\n",
      "|                                                                                                |\n",
      "| dense_3 (Dense)              (None, None, 512)    90624       []                               |\n",
      "|                                                                                                |\n",
      "| layer_normalization_2 (LayerNo  (None, None, 512)  1024       []                               |\n",
      "| rmalization)                                                                                   |\n",
      "|                                                                                                |\n",
      "| activation_2 (Activation)    (None, None, 512)    0           []                               |\n",
      "|                                                                                                |\n",
      "| dropout_2 (Dropout)          (None, None, 512)    0           []                               |\n",
      "|                                                                                                |\n",
      "| dense_4 (Dense)              (None, None, 256)    131328      []                               |\n",
      "|                                                                                                |\n",
      "| layer_normalization_3 (LayerNo  (None, None, 256)  512        []                               |\n",
      "| rmalization)                                                                                   |\n",
      "|                                                                                                |\n",
      "| activation_3 (Activation)    (None, None, 256)    0           []                               |\n",
      "|                                                                                                |\n",
      "| dropout_3 (Dropout)          (None, None, 256)    0           []                               |\n",
      "|                                                                                                |\n",
      "| lstm_1 (LSTM)                (None, 250)          507000      []                               |\n",
      "|                                                                                                |\n",
      "| dense_5 (Dense)              (None, 250)          62750       []                               |\n",
      "¯¯¯¯¯¯¯¯¯¯¯¯¯¯¯¯¯¯¯¯¯¯¯¯¯¯¯¯¯¯¯¯¯¯¯¯¯¯¯¯¯¯¯¯¯¯¯¯¯¯¯¯¯¯¯¯¯¯¯¯¯¯¯¯¯¯¯¯¯¯¯¯¯¯¯¯¯¯¯¯¯¯¯¯¯¯¯¯¯¯¯¯¯¯¯¯¯¯\n",
      " outputs (Activation)           (1, 250)             0           ['lstm_250_encoder_512_256[10][0]\n",
      "                                                                 ']                               \n",
      "                                                                                                  \n",
      "==================================================================================================\n",
      "Total params: 793,238\n",
      "Trainable params: 793,238\n",
      "Non-trainable params: 0\n",
      "__________________________________________________________________________________________________\n"
     ]
    }
   ]
  },
  {
   "cell_type": "markdown",
   "source": [
    "## Submit Model\n",
    "\n",
    "Now it is time to submit. In this competition, we should submit the model itself."
   ],
   "metadata": {
    "collapsed": false,
    "id": "-ZUnmP7T6AAg"
   }
  },
  {
   "cell_type": "code",
   "execution_count": 53,
   "outputs": [
    {
     "output_type": "stream",
     "name": "stderr",
     "text": [
      "WARNING:absl:Found untraced functions such as _update_step_xla, lstm_cell_1_layer_call_fn, lstm_cell_1_layer_call_and_return_conditional_losses while saving (showing 3 of 3). These functions will not be directly callable after loading.\n"
     ]
    }
   ],
   "source": [
    "# save the model\n",
    "for model_path, mdl in zip([f\"{WORKSPACE_DRIVE_PATH}/inference_model__{model.name}.tflite\", f\"{WORKSPACE_DRIVE_PATH}/model__{model.name}.tflite\"], [inference_model, model]):\n",
    "    converter = tf.lite.TFLiteConverter.from_keras_model(mdl)\n",
    "    tflite_model = converter.convert()\n",
    "    # submit the model\n",
    "    with open(model_path, 'wb') as f:\n",
    "        f.write(tflite_model)"
   ],
   "metadata": {
    "colab": {
     "base_uri": "https://localhost:8080/"
    },
    "id": "8U1WVotK6AAh",
    "executionInfo": {
     "status": "ok",
     "timestamp": 1679672430128,
     "user_tz": -60,
     "elapsed": 15493,
     "user": {
      "displayName": "Mlamali Said Salimo",
      "userId": "18076912819642035214"
     }
    },
    "outputId": "67e7b7ff-b11d-4410-b96e-b6d9e6c41bca"
   }
  }
 ],
 "metadata": {
  "kernelspec": {
   "display_name": "Python 3",
   "language": "python",
   "name": "python3"
  },
  "language_info": {
   "codemirror_mode": {
    "name": "ipython",
    "version": 2
   },
   "file_extension": ".py",
   "mimetype": "text/x-python",
   "name": "python",
   "nbconvert_exporter": "python",
   "pygments_lexer": "ipython2",
   "version": "2.7.6"
  },
  "colab": {
   "provenance": [],
   "toc_visible": true
  },
  "accelerator": "GPU",
  "gpuClass": "standard"
 },
 "nbformat": 4,
 "nbformat_minor": 0
}
